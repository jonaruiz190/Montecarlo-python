{
 "cells": [
  {
   "cell_type": "markdown",
   "metadata": {},
   "source": [
    "La librería de YFinance es para acceder al Yahoo Finance y obtener los datos"
   ]
  },
  {
   "cell_type": "code",
   "execution_count": 1,
   "metadata": {},
   "outputs": [],
   "source": [
    "import pandas as pd\n",
    "import numpy as np\n",
    "import matplotlib as plt\n",
    "import yfinance as yf"
   ]
  },
  {
   "cell_type": "markdown",
   "metadata": {},
   "source": [
    "Lo siguiente es para obtener una n cantidad de años en datos para este caso es desde la fecha actual hasta hace 1 año (que seria lo que establecimos en start).\n",
    "\n",
    "con strftime lo que hacermos es indicarle el formato de la fecha"
   ]
  },
  {
   "cell_type": "code",
   "execution_count": 3,
   "metadata": {},
   "outputs": [],
   "source": [
    "today = pd.Timestamp.today()\n",
    "start = today - pd.Timedelta(days=365)\n",
    "\n",
    "start_date = start.strftime('%Y-%m-%d')"
   ]
  },
  {
   "cell_type": "markdown",
   "metadata": {},
   "source": [
    "lo siguiente es opcional pero es para ver la fecha de inicio que queremos para extraer datos"
   ]
  },
  {
   "cell_type": "code",
   "execution_count": 4,
   "metadata": {},
   "outputs": [
    {
     "data": {
      "text/plain": [
       "'2022-09-26'"
      ]
     },
     "execution_count": 4,
     "metadata": {},
     "output_type": "execute_result"
    }
   ],
   "source": [
    "start_date"
   ]
  },
  {
   "cell_type": "markdown",
   "metadata": {},
   "source": [
    "con yf.download() descargamos la data que queremos pasandole como parametro symbol, start y end\n",
    "* Con sympbol lo que hacemos es pasarle la abreviatura de la página donde queremos obtener la información.\n",
    "* con start le pasamos la fecha de inicio de recoleccion de los datos\n",
    "* con end le indicamos hasta que dia queremos recoger los datos\n",
    "para este caso sera desde hace un año hasta la fecha actual."
   ]
  },
  {
   "cell_type": "code",
   "execution_count": 5,
   "metadata": {},
   "outputs": [
    {
     "name": "stdout",
     "output_type": "stream",
     "text": [
      "[*********************100%%**********************]  1 of 1 completed\n"
     ]
    }
   ],
   "source": [
    "symbol = \"SPY\"\n",
    "df_stock = yf.download(symbol, start=start_date, end=today)"
   ]
  },
  {
   "cell_type": "markdown",
   "metadata": {},
   "source": [
    "ahora para ver que es lo que descargamos lo podemos hacer con head()"
   ]
  },
  {
   "cell_type": "code",
   "execution_count": 6,
   "metadata": {},
   "outputs": [
    {
     "data": {
      "text/html": [
       "<div>\n",
       "<style scoped>\n",
       "    .dataframe tbody tr th:only-of-type {\n",
       "        vertical-align: middle;\n",
       "    }\n",
       "\n",
       "    .dataframe tbody tr th {\n",
       "        vertical-align: top;\n",
       "    }\n",
       "\n",
       "    .dataframe thead th {\n",
       "        text-align: right;\n",
       "    }\n",
       "</style>\n",
       "<table border=\"1\" class=\"dataframe\">\n",
       "  <thead>\n",
       "    <tr style=\"text-align: right;\">\n",
       "      <th></th>\n",
       "      <th>Open</th>\n",
       "      <th>High</th>\n",
       "      <th>Low</th>\n",
       "      <th>Close</th>\n",
       "      <th>Adj Close</th>\n",
       "      <th>Volume</th>\n",
       "    </tr>\n",
       "    <tr>\n",
       "      <th>Date</th>\n",
       "      <th></th>\n",
       "      <th></th>\n",
       "      <th></th>\n",
       "      <th></th>\n",
       "      <th></th>\n",
       "      <th></th>\n",
       "    </tr>\n",
       "  </thead>\n",
       "  <tbody>\n",
       "    <tr>\n",
       "      <th>2022-09-26</th>\n",
       "      <td>366.410004</td>\n",
       "      <td>370.209991</td>\n",
       "      <td>363.029999</td>\n",
       "      <td>364.309998</td>\n",
       "      <td>358.663818</td>\n",
       "      <td>92581200</td>\n",
       "    </tr>\n",
       "    <tr>\n",
       "      <th>2022-09-27</th>\n",
       "      <td>368.019989</td>\n",
       "      <td>370.399994</td>\n",
       "      <td>360.869995</td>\n",
       "      <td>363.380005</td>\n",
       "      <td>357.748230</td>\n",
       "      <td>108294100</td>\n",
       "    </tr>\n",
       "    <tr>\n",
       "      <th>2022-09-28</th>\n",
       "      <td>364.380005</td>\n",
       "      <td>372.299988</td>\n",
       "      <td>362.600006</td>\n",
       "      <td>370.529999</td>\n",
       "      <td>364.787415</td>\n",
       "      <td>110802200</td>\n",
       "    </tr>\n",
       "    <tr>\n",
       "      <th>2022-09-29</th>\n",
       "      <td>366.809998</td>\n",
       "      <td>367.109985</td>\n",
       "      <td>359.700012</td>\n",
       "      <td>362.790009</td>\n",
       "      <td>357.167419</td>\n",
       "      <td>112952300</td>\n",
       "    </tr>\n",
       "    <tr>\n",
       "      <th>2022-09-30</th>\n",
       "      <td>361.799988</td>\n",
       "      <td>365.910004</td>\n",
       "      <td>357.040009</td>\n",
       "      <td>357.179993</td>\n",
       "      <td>351.644318</td>\n",
       "      <td>153711200</td>\n",
       "    </tr>\n",
       "  </tbody>\n",
       "</table>\n",
       "</div>"
      ],
      "text/plain": [
       "                  Open        High         Low       Close   Adj Close  \\\n",
       "Date                                                                     \n",
       "2022-09-26  366.410004  370.209991  363.029999  364.309998  358.663818   \n",
       "2022-09-27  368.019989  370.399994  360.869995  363.380005  357.748230   \n",
       "2022-09-28  364.380005  372.299988  362.600006  370.529999  364.787415   \n",
       "2022-09-29  366.809998  367.109985  359.700012  362.790009  357.167419   \n",
       "2022-09-30  361.799988  365.910004  357.040009  357.179993  351.644318   \n",
       "\n",
       "               Volume  \n",
       "Date                   \n",
       "2022-09-26   92581200  \n",
       "2022-09-27  108294100  \n",
       "2022-09-28  110802200  \n",
       "2022-09-29  112952300  \n",
       "2022-09-30  153711200  "
      ]
     },
     "execution_count": 6,
     "metadata": {},
     "output_type": "execute_result"
    }
   ],
   "source": [
    "df_stock.head()"
   ]
  }
 ],
 "metadata": {
  "kernelspec": {
   "display_name": "Python 3",
   "language": "python",
   "name": "python3"
  },
  "language_info": {
   "codemirror_mode": {
    "name": "ipython",
    "version": 3
   },
   "file_extension": ".py",
   "mimetype": "text/x-python",
   "name": "python",
   "nbconvert_exporter": "python",
   "pygments_lexer": "ipython3",
   "version": "3.11.5"
  },
  "orig_nbformat": 4
 },
 "nbformat": 4,
 "nbformat_minor": 2
}
